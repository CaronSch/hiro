{
 "cells": [
  {
   "cell_type": "code",
   "execution_count": 9,
   "id": "compressed-penalty",
   "metadata": {},
   "outputs": [],
   "source": [
    "import requests\n",
    "import json"
   ]
  },
  {
   "cell_type": "code",
   "execution_count": 1,
   "id": "indoor-garden",
   "metadata": {},
   "outputs": [],
   "source": [
    "def getGraphQuery(subgraph_url, query, variables=None):\n",
    "\n",
    "    # use requests to get query results from POST Request and dump it into dat\n",
    "    \"\"\"\n",
    "    :param subgraph_url: 'https://api.thegraph.com/subgraphs/name/ppunky/hegic-v888'\n",
    "    :param query: '{options(where: {status:\"ACTIVE\"}) {id symbol}}'\n",
    "    :param variables:\n",
    "    :return:\n",
    "    \"\"\"\n",
    "    request_json = {'query': query}\n",
    "    if variables:\n",
    "        request_json['variables'] = variables\n",
    "    resp = requests.post(subgraph_url, json=request_json)\n",
    "    data = json.loads(resp.text)\n",
    "    data = data['data']\n",
    "    \n",
    "    return data"
   ]
  },
  {
   "cell_type": "code",
   "execution_count": 10,
   "id": "provincial-poetry",
   "metadata": {},
   "outputs": [],
   "source": [
    "compound_query = \"\"\" {\n",
    "  markets(first: 20, orderBy: supplyRate) {\n",
    "    name\n",
    "    symbol\n",
    "    id\n",
    "    supplyRate\n",
    "    borrowRate\n",
    "    totalSupply\n",
    "    totalBorrows\n",
    "  }\n",
    "}\"\"\"\n",
    "\n"
   ]
  },
  {
   "cell_type": "code",
   "execution_count": 11,
   "id": "southern-debate",
   "metadata": {},
   "outputs": [],
   "source": [
    "compound_data = getGraphQuery(subgraph_url='https://api.thegraph.com/subgraphs/name/graphprotocol/compound-v2',query=compound_query)"
   ]
  },
  {
   "cell_type": "code",
   "execution_count": 13,
   "id": "tough-location",
   "metadata": {},
   "outputs": [
    {
     "data": {
      "text/plain": [
       "{'markets': [{'name': 'Compound Augur',\n",
       "   'symbol': 'cREP',\n",
       "   'id': '0x158079ee67fce2f58472a96584a73c7ab9ac95c1',\n",
       "   'supplyRate': '0',\n",
       "   'borrowRate': '0.1129348367963712',\n",
       "   'totalSupply': '224030.70755673',\n",
       "   'totalBorrows': '1493.764552466717973654'},\n",
       "  {'name': 'Compound Dai',\n",
       "   'symbol': 'cDAI',\n",
       "   'id': '0xf5dce57282a584d2746faf1593d3121fcac444dc',\n",
       "   'supplyRate': '0',\n",
       "   'borrowRate': '0.0554679319677408',\n",
       "   'totalSupply': '9664084.41960863',\n",
       "   'totalBorrows': '10653.806906136509377118'},\n",
       "  {'name': 'Compound Ether',\n",
       "   'symbol': 'cETH',\n",
       "   'id': '0x4ddc2d193948926d02f9b1fe9e1daa0718270ed5',\n",
       "   'supplyRate': '0.0018743521527072',\n",
       "   'borrowRate': '0.0282827182822848',\n",
       "   'totalSupply': '69309404.17597121',\n",
       "   'totalBorrows': '115045.354549081229359613'},\n",
       "  {'name': 'Compound Wrapped BTC',\n",
       "   'symbol': 'cWBTC',\n",
       "   'id': '0xc11b1268c1a384e55c48c2391d8d480264a3a7f4',\n",
       "   'supplyRate': '0.0024544292892192',\n",
       "   'borrowRate': '0.0419415427705824',\n",
       "   'totalSupply': '1927116.99060393',\n",
       "   'totalBorrows': '2847.97739041'},\n",
       "  {'name': 'Compound 0x',\n",
       "   'symbol': 'cZRX',\n",
       "   'id': '0xb3319f5d18bc0d84dd1b4825dcde5d5f7266d407',\n",
       "   'supplyRate': '0.0082877947270848',\n",
       "   'borrowRate': '0.0680800004313696',\n",
       "   'totalSupply': '5661646870.26353242',\n",
       "   'totalBorrows': '18776688.577941884311218716'},\n",
       "  {'name': 'Compound Basic Attention Token',\n",
       "   'symbol': 'cBAT',\n",
       "   'id': '0x6c8c6b02e7b2be14d4fa6022dfd6d75921d90e4e',\n",
       "   'supplyRate': '0.0142516152749088',\n",
       "   'borrowRate': '0.0852493187020608',\n",
       "   'totalSupply': '6423030410.25048627',\n",
       "   'totalBorrows': '29420245.799701608462972554'},\n",
       "  {'name': 'Compound Collateral',\n",
       "   'symbol': 'cCOMP',\n",
       "   'id': '0x70e36f6bf80a52b3b46b3af8e106cc0ed743e8e4',\n",
       "   'supplyRate': '0.0156025737219168',\n",
       "   'borrowRate': '0.0791431277616576',\n",
       "   'totalSupply': '17083702.99146784',\n",
       "   'totalBorrows': '90876.878149325181135195'},\n",
       "  {'name': 'Compound Dai',\n",
       "   'symbol': 'cDAI',\n",
       "   'id': '0x5d3a536e4d6dbd6114cc1ead35777bab948e3643',\n",
       "   'supplyRate': '0.045794657963808',\n",
       "   'borrowRate': '0.065436303505104',\n",
       "   'totalSupply': '120621556329.92963135',\n",
       "   'totalBorrows': '2105044545.033033503165668638'},\n",
       "  {'name': 'Compound Uniswap',\n",
       "   'symbol': 'cUNI',\n",
       "   'id': '0x35a18000230da775cac24873d00ff85bccded550',\n",
       "   'supplyRate': '0.0500905696158432',\n",
       "   'borrowRate': '0.1632174897136896',\n",
       "   'totalSupply': '482347030.6333711',\n",
       "   'totalBorrows': '3985073.909425312884319945'},\n",
       "  {'name': 'Compound USDT',\n",
       "   'symbol': 'cUSDT',\n",
       "   'id': '0xf650c3d88d12db855b8bf7d11be6c55a4e07dcc9',\n",
       "   'supplyRate': '0.073355044288032',\n",
       "   'borrowRate': '0.0934074971326368',\n",
       "   'totalSupply': '15153294730.66769034',\n",
       "   'totalBorrows': '268808754.616047'},\n",
       "  {'name': 'Compound USD Coin',\n",
       "   'symbol': 'cUSDC',\n",
       "   'id': '0x39aa39c021dfbae8fac545936693ac917d5e7563',\n",
       "   'supplyRate': '0.0850404991675968',\n",
       "   'borrowRate': '0.1067483959844256',\n",
       "   'totalSupply': '93968306444.11051999',\n",
       "   'totalBorrows': '1757717751.923494'}]}"
      ]
     },
     "execution_count": 13,
     "metadata": {},
     "output_type": "execute_result"
    }
   ],
   "source": [
    "compound_data"
   ]
  }
 ],
 "metadata": {
  "kernelspec": {
   "display_name": "Python 3",
   "language": "python",
   "name": "python3"
  },
  "language_info": {
   "codemirror_mode": {
    "name": "ipython",
    "version": 3
   },
   "file_extension": ".py",
   "mimetype": "text/x-python",
   "name": "python",
   "nbconvert_exporter": "python",
   "pygments_lexer": "ipython3",
   "version": "3.8.5"
  }
 },
 "nbformat": 4,
 "nbformat_minor": 5
}
